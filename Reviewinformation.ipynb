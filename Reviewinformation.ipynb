{
 "cells": [
  {
   "cell_type": "markdown",
   "id": "383acdf9",
   "metadata": {},
   "source": [
    "# AERONAUTICAL PROJECT\n",
    "The following project is based on the realization of virtual reality software for the aeronautical sector with the purpose of improving the learning experience for flight assistants, the goal is to include artificial intelligence and implement with the metahumans who will be inserted into the software.\n",
    "for start the project we will begin making a review of some contents. \n",
    "## Interaction with virtual characters\n",
    "One of the main ideas of this software is the \"interaction with virtual characters\" or \"communication with virtual entities.\" In this scenario, \"metahumanos\" could be virtual characters, avatars or digital entities that can interact and communicate with users in a similar way to how humans interact with each other.\n",
    "So to develop the idea we need tools for the creation of chatbots and virtual agents with advanced natural language processing capabilities."
   ]
  },
  {
   "cell_type": "code",
   "execution_count": null,
   "id": "ac169858",
   "metadata": {},
   "outputs": [],
   "source": [
    "!pip install nltk"
   ]
  },
  {
   "attachments": {},
   "cell_type": "markdown",
   "id": "34a9b1ff",
   "metadata": {},
   "source": [
    "## First thing we do is import all the libraries \n",
    "we need and download nltk.\n",
    "1. nltk (NATURAL LENGUAGE TOOLKIT) : used for natural language processing.\n",
    "2. Wordnetlemmatizer: A lematizer is used to reduce words to its base or motto, which can be useful in text processing.\n",
    "3. Lemmatizer = Wordnetlemmatizer (): Create an instance of the lematizer\n",
    "4. Json: Our archive is made with Json.\n",
    "5. Pickle: Used for saving trained models\n",
    "6. Keras: for the Neural network."
   ]
  },
  {
   "cell_type": "code",
   "execution_count": 1,
   "id": "b16e4820",
   "metadata": {},
   "outputs": [
    {
     "name": "stdout",
     "output_type": "stream",
     "text": [
      "showing info https://raw.githubusercontent.com/nltk/nltk_data/gh-pages/index.xml\n"
     ]
    }
   ],
   "source": [
    "import nltk\n",
    "nltk.download()\n",
    "from nltk.stem import WordNetLemmatizer\n",
    "lemmatizer = WordNetLemmatizer()\n",
    "import json\n",
    "import pickle\n",
    "import numpy as np\n",
    "from keras.models import Sequential\n",
    "from keras.layers import Dense, Activation, Dropout\n",
    "from keras.optimizers import SGD\n",
    "from tensorflow.keras.optimizers import SGD\n",
    "import random"
   ]
  },
  {
   "cell_type": "markdown",
   "id": "2e4a77ea",
   "metadata": {},
   "source": [
    "Let's  3 create empty lists.\n",
    "1. Words: stores the words we will process.\n",
    "2. Classes: will store the classes.\n",
    "3. Documments: will be used to save text documents."
   ]
  },
  {
   "cell_type": "code",
   "execution_count": 2,
   "id": "084da028",
   "metadata": {},
   "outputs": [],
   "source": [
    "words=[]\n",
    "classes = []\n",
    "documents = []"
   ]
  },
  {
   "cell_type": "markdown",
   "id": "4f5451f7",
   "metadata": {},
   "source": [
    "We open our Json archive."
   ]
  },
  {
   "cell_type": "code",
   "execution_count": 3,
   "id": "545fbd7a",
   "metadata": {},
   "outputs": [],
   "source": [
    "with open(\"intents.json\", \"r\") as archivo_json:\n",
    "    datos_json = json.load(archivo_json)"
   ]
  },
  {
   "cell_type": "markdown",
   "id": "f39aae62",
   "metadata": {},
   "source": [
    "let's check if it is working correctly"
   ]
  },
  {
   "cell_type": "code",
   "execution_count": 4,
   "id": "c6e91a03",
   "metadata": {},
   "outputs": [
    {
     "name": "stdout",
     "output_type": "stream",
     "text": [
      "{'intents': [{'intent': 'Greetings', 'text': ['Bienvenida a bordo', 'Disculpe', 'Gracias por volar con nosotros'], 'response': ['Disculpe, Â¿podria ayudarme a abrochar mi cinturon de seguridad, por favor?', 'Perdon por molestar, Â¿podria brindarme asistencia para abrochar mi cinturon de seguridad, por favor?', 'Necesito un poco de ayuda con mi cinturon, Â¿puede asistirme?', 'Â¿SerÃ\\xada tan amable de abrochar mi cinturon de seguridad?', 'Necesito ayuda con el cinturon de seguridad, Â¿podria, por favor?', 'Â¿Podria ofrecerme asistencia con el cinturon?', 'Disculpe, Â¿puede ocuparse de mi cinturon, por favor?', 'Por favor, Â¿me podria dar una mano con el cinturon?', 'Â¿Seria tan amable de abrochar mi cinturon de seguridad?', 'Necesito asistencia para abrochar mi cinturon, Â¿podria?', 'Â¿PodrÃ\\xada brindarme ayuda con el cinturon de seguridad, por favor?', 'Disculpe, Â¿me podrÃ\\xada dar una mano para abrochar el cinturon?', 'Â¿PodrÃ\\xada ocuparse de mi cinturon de seguridad, por favor?', 'Por favor, Â¿puede ayudarme a abrochar mi cinturon de seguridad?', 'Necesito un poco de ayuda con el cinturon, Â¿puede asistirme?', 'Â¿PodrÃ\\xada ofrecerme asistencia para abrochar mi cinturon, por favor?']}, {'intent': 'afirmation', 'text': ['si', 'por supuesto', 'claro', 'permitame ayudarle', 'de inmediato', 'deme un momento', 'deme un segundo'], 'response': ['muchas gracias', 'muchas gracias por la ayuda', 'eres muy amable', 'gracias por ayudarme', 'un poco apretado pero estÃ¡ bien']}, {'intent': 'Greetings', 'text': ['buen dia', 'buenos dias', 'buenas noches', 'puedo ver su tiquete', 'buenas tardes'], 'response': ['Disculpe, estoy teniendo dificultades para encontrar mi asiento. Â¿Podria ayudarme a ubicarlo?', 'Â¿Seria posible que me asistiera para encontrar mi asiento asignado?', 'Estoy un poco perdido. Â¿Podria guiarme hacia mi asiento?', 'Perdon, Â¿podria indicarme donde esta mi asiento?', 'Necesito encontrar mi asiento, Â¿puede mostrarmelo?', 'Estoy buscando mi asiento, Â¿me podria acompaÃ±ar?', 'Disculpe, Â¿podrÃ\\xada orientarme hacia mi asiento?', 'Â¿Podria ayudarme a ubicar mi asiento, por favor?', 'Tengo dificultades para encontrar mi asiento, Â¿puede asistirme?', 'Â¿Seria tan amable de indicarme donde esta mi asiento asignado?', 'Estoy un poco perdido, Â¿puede guiarme hacia mi asiento?', 'Por favor, Â¿puede mostrarme la ubicacion de mi asiento?', 'Necesito encontrar mi asiento, Â¿podrÃ\\xada darme una mano?', 'Disculpe, Â¿podria decirme dÃ³nde debo ir para llegar a mi asiento?', 'Â¿Puede ayudarme a ubicar mi asiento, por favor?', 'Tengo dificultades para encontrar mi asiento asignado, Â¿puede orientarme?', 'Estoy buscando mi asiento, Â¿podria acompaÃ±arme hasta alli?', 'Perdon por molestar, Â¿podria indicarme la direccion de mi asiento?', 'Â¿Podria mostrarme dÃ³nde esta mi asiento, por favor?', 'Necesito encontrar mi asiento, Â¿me podria dar instrucciones?', 'Disculpe, Â¿puede decirme cÃ³mo llegar a mi asiento?', 'Estoy un poco confundido, Â¿podria ayudarme a encontrar mi asiento?', 'Â¿Seria tan amable de orientarme hacia mi asiento asignado?', 'Tengo problemas para ubicar mi asiento, Â¿puede guiarme?', 'Por favor, Â¿puede mostrarme donde se encuentra mi asiento?', 'Necesito encontrar mi asiento, Â¿podria asistirme en ello?', 'Disculpe, Â¿podria indicarme la ubicacion de mi asiento?', 'Â¿Puede ayudarme a ubicar mi asiento, por favor?', 'Tengo dificultades para encontrar mi asiento, Â¿me podria acompaÃ±ar?', 'Estoy buscando mi asiento, Â¿podria darme una mano para hallarlo?', 'Perdon por la molestia, Â¿podria decirme dÃ³nde esta mi asiento?', 'Â¿Podria mostrarme la direccion de mi asiento, por favor?', 'Necesito encontrar mi asiento, Â¿podria proporcionarme algunas instrucciones?']}]}\n"
     ]
    }
   ],
   "source": [
    "print(datos_json) #it is working fine but we need to keep cleanning the data"
   ]
  },
  {
   "cell_type": "code",
   "execution_count": 5,
   "id": "c103078a",
   "metadata": {},
   "outputs": [],
   "source": [
    "for intent in datos_json['intents']:\n",
    "    for text in intent['text']:\n",
    "        w = nltk.word_tokenize(text)\n",
    "        words.extend(w)"
   ]
  },
  {
   "cell_type": "markdown",
   "id": "4d7c7c3a",
   "metadata": {},
   "source": [
    "We open the document list and add the tokenization, intent is the label if the name of the intent is not on the class list, it is added to this list. This ensures that Classses will contain all the unique labels of the intentions present in the data."
   ]
  },
  {
   "cell_type": "code",
   "execution_count": 24,
   "id": "d8043a76",
   "metadata": {},
   "outputs": [],
   "source": [
    "documents.append((w, intent['intent']))\n",
    "if intent['intent'] not in classes:\n",
    "    classes.append(intent['intent'])"
   ]
  },
  {
   "cell_type": "markdown",
   "id": "e9328c40",
   "metadata": {},
   "source": [
    "We lemmatize W.lower is to put them in lowercase, Sorted is to hate alphabically for not repeat the same word."
   ]
  },
  {
   "cell_type": "code",
   "execution_count": 7,
   "id": "632fcd32",
   "metadata": {},
   "outputs": [],
   "source": [
    "words = [lemmatizer.lemmatize(w.lower())\n",
    "for w in words]\n",
    "words = sorted(list(set(words)))"
   ]
  },
  {
   "cell_type": "code",
   "execution_count": 8,
   "id": "7019af95",
   "metadata": {},
   "outputs": [],
   "source": [
    "classes = sorted(list(set(classes)))"
   ]
  },
  {
   "cell_type": "code",
   "execution_count": 9,
   "id": "d1819f17",
   "metadata": {},
   "outputs": [
    {
     "name": "stdout",
     "output_type": "stream",
     "text": [
      "1 documents\n"
     ]
    }
   ],
   "source": [
    "print(len(documents), \"documents\")"
   ]
  },
  {
   "cell_type": "code",
   "execution_count": 10,
   "id": "da0cc873",
   "metadata": {},
   "outputs": [
    {
     "name": "stdout",
     "output_type": "stream",
     "text": [
      "1 classes ['Greetings']\n"
     ]
    }
   ],
   "source": [
    "print(len(classes), \"classes\", classes)"
   ]
  },
  {
   "cell_type": "markdown",
   "id": "eadd79c6",
   "metadata": {},
   "source": [
    "We print the lemmatized words also we safe with pickles the information of the words and the classes"
   ]
  },
  {
   "cell_type": "code",
   "execution_count": 11,
   "id": "61dc80b9",
   "metadata": {},
   "outputs": [
    {
     "name": "stdout",
     "output_type": "stream",
     "text": [
      "30 unique lemmatized words ['a', 'ayudarle', 'bienvenida', 'bordo', 'buen', 'buenas', 'buenos', 'claro', 'con', 'de', 'deme', 'dia', 'disculpe', 'gracias', 'inmediato', 'momento', 'noches', 'nosotros', 'permitame', 'por', 'puedo', 'segundo', 'si', 'su', 'supuesto', 'tardes', 'tiquete', 'un', 'ver', 'volar']\n"
     ]
    }
   ],
   "source": [
    "print(len(words), \"unique lemmatized words\", words)\n",
    "pickle.dump(words,open('words.pkl','wb'))\n",
    "pickle.dump(classes,open('classes.pkl','wb'))"
   ]
  },
  {
   "cell_type": "code",
   "execution_count": 12,
   "id": "b30a1bd4",
   "metadata": {},
   "outputs": [],
   "source": [
    "training = []"
   ]
  },
  {
   "cell_type": "code",
   "execution_count": 13,
   "id": "8e073095",
   "metadata": {},
   "outputs": [],
   "source": [
    "output_empty = [0] * len(classes)"
   ]
  },
  {
   "cell_type": "code",
   "execution_count": 14,
   "id": "30fe287f",
   "metadata": {},
   "outputs": [],
   "source": [
    "for doc in documents:\n",
    "    bag = []\n",
    "pattern_words = doc[0]"
   ]
  },
  {
   "cell_type": "code",
   "execution_count": 15,
   "id": "4cdb0a9a",
   "metadata": {},
   "outputs": [],
   "source": [
    " pattern_words = [lemmatizer.lemmatize(word.lower()) for word in pattern_words]"
   ]
  },
  {
   "cell_type": "markdown",
   "id": "c123c200",
   "metadata": {},
   "source": [
    "We create a list binary list"
   ]
  },
  {
   "cell_type": "code",
   "execution_count": 16,
   "id": "7d7a2a93",
   "metadata": {},
   "outputs": [],
   "source": [
    "bag.append(1) if w in pattern_words else bag.append(0)"
   ]
  },
  {
   "cell_type": "markdown",
   "id": "740e1e1f",
   "metadata": {},
   "source": [
    "This code is used to prepare training data for a text classification model"
   ]
  },
  {
   "cell_type": "code",
   "execution_count": 17,
   "id": "9c72eba5",
   "metadata": {},
   "outputs": [],
   "source": [
    "output_row = list(output_empty)\n",
    "output_row[classes.index(doc[1])] = 1\n",
    "training.append([bag, output_row])"
   ]
  },
  {
   "cell_type": "code",
   "execution_count": 18,
   "id": "f18deb58",
   "metadata": {},
   "outputs": [],
   "source": [
    "random.shuffle(training)\n",
    "training = np.array(training)"
   ]
  },
  {
   "cell_type": "code",
   "execution_count": 19,
   "id": "e4829bf2",
   "metadata": {},
   "outputs": [
    {
     "name": "stdout",
     "output_type": "stream",
     "text": [
      "Training data created\n"
     ]
    }
   ],
   "source": [
    "train_x = list(training[:,0])\n",
    "train_y = list(training[:,1])\n",
    "print(\"Training data created\")"
   ]
  },
  {
   "cell_type": "markdown",
   "id": "38c693af",
   "metadata": {},
   "source": [
    "We create the Neural network"
   ]
  },
  {
   "cell_type": "code",
   "execution_count": 20,
   "id": "3494be0d",
   "metadata": {},
   "outputs": [],
   "source": [
    "model = Sequential()\n",
    "model.add(Dense(128, input_shape=(len(train_x[0]),), activation='relu'))\n",
    "model.add(Dropout(0.5))\n",
    "model.add(Dense(64, activation='relu'))\n",
    "model.add(Dropout(0.5))\n",
    "model.add(Dense(len(train_y[0]), activation='softmax'))"
   ]
  },
  {
   "cell_type": "code",
   "execution_count": 21,
   "id": "0f83237a",
   "metadata": {},
   "outputs": [],
   "source": [
    "sgd = SGD(learning_rate=0.01, momentum=0.9, nesterov=True)\n",
    "model.compile(loss='categorical_crossentropy', optimizer=sgd, metrics=['accuracy'])"
   ]
  },
  {
   "cell_type": "code",
   "execution_count": 22,
   "id": "994b7882",
   "metadata": {},
   "outputs": [
    {
     "name": "stdout",
     "output_type": "stream",
     "text": [
      "Epoch 1/200\n"
     ]
    },
    {
     "name": "stderr",
     "output_type": "stream",
     "text": [
      "C:\\Users\\Luz Helena\\anaconda3\\Lib\\site-packages\\tensorflow\\python\\util\\dispatch.py:1176: SyntaxWarning: In loss categorical_crossentropy, expected y_pred.shape to be (batch_size, num_classes) with num_classes > 1. Received: y_pred.shape=(None, 1). Consider using 'binary_crossentropy' if you only have 2 classes.\n",
      "  return dispatch_target(*args, **kwargs)\n"
     ]
    },
    {
     "name": "stdout",
     "output_type": "stream",
     "text": [
      "1/1 [==============================] - 1s 1s/step - loss: 0.0000e+00 - accuracy: 1.0000\n",
      "Epoch 2/200\n",
      "1/1 [==============================] - 0s 16ms/step - loss: 0.0000e+00 - accuracy: 1.0000\n",
      "Epoch 3/200\n",
      "1/1 [==============================] - 0s 12ms/step - loss: 0.0000e+00 - accuracy: 1.0000\n",
      "Epoch 4/200\n",
      "1/1 [==============================] - 0s 18ms/step - loss: 0.0000e+00 - accuracy: 1.0000\n",
      "Epoch 5/200\n",
      "1/1 [==============================] - 0s 20ms/step - loss: 0.0000e+00 - accuracy: 1.0000\n",
      "Epoch 6/200\n",
      "1/1 [==============================] - 0s 12ms/step - loss: 0.0000e+00 - accuracy: 1.0000\n",
      "Epoch 7/200\n",
      "1/1 [==============================] - 0s 18ms/step - loss: 0.0000e+00 - accuracy: 1.0000\n",
      "Epoch 8/200\n",
      "1/1 [==============================] - 0s 18ms/step - loss: 0.0000e+00 - accuracy: 1.0000\n",
      "Epoch 9/200\n",
      "1/1 [==============================] - 0s 17ms/step - loss: 0.0000e+00 - accuracy: 1.0000\n",
      "Epoch 10/200\n",
      "1/1 [==============================] - 0s 16ms/step - loss: 0.0000e+00 - accuracy: 1.0000\n",
      "Epoch 11/200\n",
      "1/1 [==============================] - 0s 14ms/step - loss: 0.0000e+00 - accuracy: 1.0000\n",
      "Epoch 12/200\n",
      "1/1 [==============================] - 0s 24ms/step - loss: 0.0000e+00 - accuracy: 1.0000\n",
      "Epoch 13/200\n",
      "1/1 [==============================] - 0s 17ms/step - loss: 0.0000e+00 - accuracy: 1.0000\n",
      "Epoch 14/200\n",
      "1/1 [==============================] - 0s 18ms/step - loss: 0.0000e+00 - accuracy: 1.0000\n",
      "Epoch 15/200\n",
      "1/1 [==============================] - 0s 17ms/step - loss: 0.0000e+00 - accuracy: 1.0000\n",
      "Epoch 16/200\n",
      "1/1 [==============================] - 0s 21ms/step - loss: 0.0000e+00 - accuracy: 1.0000\n",
      "Epoch 17/200\n",
      "1/1 [==============================] - 0s 16ms/step - loss: 0.0000e+00 - accuracy: 1.0000\n",
      "Epoch 18/200\n",
      "1/1 [==============================] - 0s 17ms/step - loss: 0.0000e+00 - accuracy: 1.0000\n",
      "Epoch 19/200\n",
      "1/1 [==============================] - 0s 17ms/step - loss: 0.0000e+00 - accuracy: 1.0000\n",
      "Epoch 20/200\n",
      "1/1 [==============================] - 0s 15ms/step - loss: 0.0000e+00 - accuracy: 1.0000\n",
      "Epoch 21/200\n",
      "1/1 [==============================] - 0s 16ms/step - loss: 0.0000e+00 - accuracy: 1.0000\n",
      "Epoch 22/200\n",
      "1/1 [==============================] - 0s 17ms/step - loss: 0.0000e+00 - accuracy: 1.0000\n",
      "Epoch 23/200\n",
      "1/1 [==============================] - 0s 16ms/step - loss: 0.0000e+00 - accuracy: 1.0000\n",
      "Epoch 24/200\n",
      "1/1 [==============================] - 0s 17ms/step - loss: 0.0000e+00 - accuracy: 1.0000\n",
      "Epoch 25/200\n",
      "1/1 [==============================] - 0s 25ms/step - loss: 0.0000e+00 - accuracy: 1.0000\n",
      "Epoch 26/200\n",
      "1/1 [==============================] - 0s 15ms/step - loss: 0.0000e+00 - accuracy: 1.0000\n",
      "Epoch 27/200\n",
      "1/1 [==============================] - 0s 18ms/step - loss: 0.0000e+00 - accuracy: 1.0000\n",
      "Epoch 28/200\n",
      "1/1 [==============================] - 0s 16ms/step - loss: 0.0000e+00 - accuracy: 1.0000\n",
      "Epoch 29/200\n",
      "1/1 [==============================] - 0s 16ms/step - loss: 0.0000e+00 - accuracy: 1.0000\n",
      "Epoch 30/200\n",
      "1/1 [==============================] - 0s 19ms/step - loss: 0.0000e+00 - accuracy: 1.0000\n",
      "Epoch 31/200\n",
      "1/1 [==============================] - 0s 18ms/step - loss: 0.0000e+00 - accuracy: 1.0000\n",
      "Epoch 32/200\n",
      "1/1 [==============================] - 0s 10ms/step - loss: 0.0000e+00 - accuracy: 1.0000\n",
      "Epoch 33/200\n",
      "1/1 [==============================] - 0s 17ms/step - loss: 0.0000e+00 - accuracy: 1.0000\n",
      "Epoch 34/200\n",
      "1/1 [==============================] - 0s 23ms/step - loss: 0.0000e+00 - accuracy: 1.0000\n",
      "Epoch 35/200\n",
      "1/1 [==============================] - 0s 16ms/step - loss: 0.0000e+00 - accuracy: 1.0000\n",
      "Epoch 36/200\n",
      "1/1 [==============================] - 0s 18ms/step - loss: 0.0000e+00 - accuracy: 1.0000\n",
      "Epoch 37/200\n",
      "1/1 [==============================] - 0s 18ms/step - loss: 0.0000e+00 - accuracy: 1.0000\n",
      "Epoch 38/200\n",
      "1/1 [==============================] - 0s 19ms/step - loss: 0.0000e+00 - accuracy: 1.0000\n",
      "Epoch 39/200\n",
      "1/1 [==============================] - 0s 15ms/step - loss: 0.0000e+00 - accuracy: 1.0000\n",
      "Epoch 40/200\n",
      "1/1 [==============================] - 0s 22ms/step - loss: 0.0000e+00 - accuracy: 1.0000\n",
      "Epoch 41/200\n",
      "1/1 [==============================] - 0s 17ms/step - loss: 0.0000e+00 - accuracy: 1.0000\n",
      "Epoch 42/200\n",
      "1/1 [==============================] - 0s 16ms/step - loss: 0.0000e+00 - accuracy: 1.0000\n",
      "Epoch 43/200\n",
      "1/1 [==============================] - 0s 21ms/step - loss: 0.0000e+00 - accuracy: 1.0000\n",
      "Epoch 44/200\n",
      "1/1 [==============================] - 0s 18ms/step - loss: 0.0000e+00 - accuracy: 1.0000\n",
      "Epoch 45/200\n",
      "1/1 [==============================] - 0s 23ms/step - loss: 0.0000e+00 - accuracy: 1.0000\n",
      "Epoch 46/200\n",
      "1/1 [==============================] - 0s 20ms/step - loss: 0.0000e+00 - accuracy: 1.0000\n",
      "Epoch 47/200\n",
      "1/1 [==============================] - 0s 20ms/step - loss: 0.0000e+00 - accuracy: 1.0000\n",
      "Epoch 48/200\n",
      "1/1 [==============================] - 0s 16ms/step - loss: 0.0000e+00 - accuracy: 1.0000\n",
      "Epoch 49/200\n",
      "1/1 [==============================] - 0s 14ms/step - loss: 0.0000e+00 - accuracy: 1.0000\n",
      "Epoch 50/200\n",
      "1/1 [==============================] - 0s 13ms/step - loss: 0.0000e+00 - accuracy: 1.0000\n",
      "Epoch 51/200\n",
      "1/1 [==============================] - 0s 19ms/step - loss: 0.0000e+00 - accuracy: 1.0000\n",
      "Epoch 52/200\n",
      "1/1 [==============================] - 0s 18ms/step - loss: 0.0000e+00 - accuracy: 1.0000\n",
      "Epoch 53/200\n",
      "1/1 [==============================] - 0s 18ms/step - loss: 0.0000e+00 - accuracy: 1.0000\n",
      "Epoch 54/200\n",
      "1/1 [==============================] - 0s 18ms/step - loss: 0.0000e+00 - accuracy: 1.0000\n",
      "Epoch 55/200\n",
      "1/1 [==============================] - 0s 15ms/step - loss: 0.0000e+00 - accuracy: 1.0000\n",
      "Epoch 56/200\n",
      "1/1 [==============================] - 0s 12ms/step - loss: 0.0000e+00 - accuracy: 1.0000\n",
      "Epoch 57/200\n",
      "1/1 [==============================] - 0s 22ms/step - loss: 0.0000e+00 - accuracy: 1.0000\n",
      "Epoch 58/200\n",
      "1/1 [==============================] - 0s 16ms/step - loss: 0.0000e+00 - accuracy: 1.0000\n",
      "Epoch 59/200\n",
      "1/1 [==============================] - 0s 15ms/step - loss: 0.0000e+00 - accuracy: 1.0000\n",
      "Epoch 60/200\n",
      "1/1 [==============================] - 0s 20ms/step - loss: 0.0000e+00 - accuracy: 1.0000\n",
      "Epoch 61/200\n",
      "1/1 [==============================] - 0s 15ms/step - loss: 0.0000e+00 - accuracy: 1.0000\n",
      "Epoch 62/200\n",
      "1/1 [==============================] - 0s 20ms/step - loss: 0.0000e+00 - accuracy: 1.0000\n",
      "Epoch 63/200\n",
      "1/1 [==============================] - 0s 16ms/step - loss: 0.0000e+00 - accuracy: 1.0000\n",
      "Epoch 64/200\n",
      "1/1 [==============================] - 0s 10ms/step - loss: 0.0000e+00 - accuracy: 1.0000\n",
      "Epoch 65/200\n",
      "1/1 [==============================] - 0s 12ms/step - loss: 0.0000e+00 - accuracy: 1.0000\n",
      "Epoch 66/200\n",
      "1/1 [==============================] - 0s 11ms/step - loss: 0.0000e+00 - accuracy: 1.0000\n",
      "Epoch 67/200\n",
      "1/1 [==============================] - 0s 16ms/step - loss: 0.0000e+00 - accuracy: 1.0000\n",
      "Epoch 68/200\n",
      "1/1 [==============================] - 0s 15ms/step - loss: 0.0000e+00 - accuracy: 1.0000\n",
      "Epoch 69/200\n",
      "1/1 [==============================] - 0s 22ms/step - loss: 0.0000e+00 - accuracy: 1.0000\n",
      "Epoch 70/200\n",
      "1/1 [==============================] - 0s 16ms/step - loss: 0.0000e+00 - accuracy: 1.0000\n",
      "Epoch 71/200\n",
      "1/1 [==============================] - 0s 13ms/step - loss: 0.0000e+00 - accuracy: 1.0000\n",
      "Epoch 72/200\n",
      "1/1 [==============================] - 0s 11ms/step - loss: 0.0000e+00 - accuracy: 1.0000\n",
      "Epoch 73/200\n",
      "1/1 [==============================] - 0s 15ms/step - loss: 0.0000e+00 - accuracy: 1.0000\n",
      "Epoch 74/200\n",
      "1/1 [==============================] - 0s 23ms/step - loss: 0.0000e+00 - accuracy: 1.0000\n",
      "Epoch 75/200\n",
      "1/1 [==============================] - 0s 17ms/step - loss: 0.0000e+00 - accuracy: 1.0000\n",
      "Epoch 76/200\n",
      "1/1 [==============================] - 0s 14ms/step - loss: 0.0000e+00 - accuracy: 1.0000\n",
      "Epoch 77/200\n",
      "1/1 [==============================] - 0s 19ms/step - loss: 0.0000e+00 - accuracy: 1.0000\n",
      "Epoch 78/200\n",
      "1/1 [==============================] - 0s 14ms/step - loss: 0.0000e+00 - accuracy: 1.0000\n",
      "Epoch 79/200\n",
      "1/1 [==============================] - 0s 15ms/step - loss: 0.0000e+00 - accuracy: 1.0000\n",
      "Epoch 80/200\n"
     ]
    },
    {
     "name": "stdout",
     "output_type": "stream",
     "text": [
      "1/1 [==============================] - 0s 13ms/step - loss: 0.0000e+00 - accuracy: 1.0000\n",
      "Epoch 81/200\n",
      "1/1 [==============================] - 0s 15ms/step - loss: 0.0000e+00 - accuracy: 1.0000\n",
      "Epoch 82/200\n",
      "1/1 [==============================] - 0s 20ms/step - loss: 0.0000e+00 - accuracy: 1.0000\n",
      "Epoch 83/200\n",
      "1/1 [==============================] - 0s 18ms/step - loss: 0.0000e+00 - accuracy: 1.0000\n",
      "Epoch 84/200\n",
      "1/1 [==============================] - 0s 14ms/step - loss: 0.0000e+00 - accuracy: 1.0000\n",
      "Epoch 85/200\n",
      "1/1 [==============================] - 0s 17ms/step - loss: 0.0000e+00 - accuracy: 1.0000\n",
      "Epoch 86/200\n",
      "1/1 [==============================] - 0s 12ms/step - loss: 0.0000e+00 - accuracy: 1.0000\n",
      "Epoch 87/200\n",
      "1/1 [==============================] - 0s 17ms/step - loss: 0.0000e+00 - accuracy: 1.0000\n",
      "Epoch 88/200\n",
      "1/1 [==============================] - 0s 24ms/step - loss: 0.0000e+00 - accuracy: 1.0000\n",
      "Epoch 89/200\n",
      "1/1 [==============================] - 0s 9ms/step - loss: 0.0000e+00 - accuracy: 1.0000\n",
      "Epoch 90/200\n",
      "1/1 [==============================] - 0s 16ms/step - loss: 0.0000e+00 - accuracy: 1.0000\n",
      "Epoch 91/200\n",
      "1/1 [==============================] - 0s 6ms/step - loss: 0.0000e+00 - accuracy: 1.0000\n",
      "Epoch 92/200\n",
      "1/1 [==============================] - 0s 12ms/step - loss: 0.0000e+00 - accuracy: 1.0000\n",
      "Epoch 93/200\n",
      "1/1 [==============================] - 0s 18ms/step - loss: 0.0000e+00 - accuracy: 1.0000\n",
      "Epoch 94/200\n",
      "1/1 [==============================] - 0s 14ms/step - loss: 0.0000e+00 - accuracy: 1.0000\n",
      "Epoch 95/200\n",
      "1/1 [==============================] - 0s 7ms/step - loss: 0.0000e+00 - accuracy: 1.0000\n",
      "Epoch 96/200\n",
      "1/1 [==============================] - 0s 16ms/step - loss: 0.0000e+00 - accuracy: 1.0000\n",
      "Epoch 97/200\n",
      "1/1 [==============================] - 0s 20ms/step - loss: 0.0000e+00 - accuracy: 1.0000\n",
      "Epoch 98/200\n",
      "1/1 [==============================] - 0s 15ms/step - loss: 0.0000e+00 - accuracy: 1.0000\n",
      "Epoch 99/200\n",
      "1/1 [==============================] - 0s 11ms/step - loss: 0.0000e+00 - accuracy: 1.0000\n",
      "Epoch 100/200\n",
      "1/1 [==============================] - 0s 11ms/step - loss: 0.0000e+00 - accuracy: 1.0000\n",
      "Epoch 101/200\n",
      "1/1 [==============================] - 0s 17ms/step - loss: 0.0000e+00 - accuracy: 1.0000\n",
      "Epoch 102/200\n",
      "1/1 [==============================] - 0s 10ms/step - loss: 0.0000e+00 - accuracy: 1.0000\n",
      "Epoch 103/200\n",
      "1/1 [==============================] - 0s 10ms/step - loss: 0.0000e+00 - accuracy: 1.0000\n",
      "Epoch 104/200\n",
      "1/1 [==============================] - 0s 15ms/step - loss: 0.0000e+00 - accuracy: 1.0000\n",
      "Epoch 105/200\n",
      "1/1 [==============================] - 0s 14ms/step - loss: 0.0000e+00 - accuracy: 1.0000\n",
      "Epoch 106/200\n",
      "1/1 [==============================] - 0s 20ms/step - loss: 0.0000e+00 - accuracy: 1.0000\n",
      "Epoch 107/200\n",
      "1/1 [==============================] - 0s 12ms/step - loss: 0.0000e+00 - accuracy: 1.0000\n",
      "Epoch 108/200\n",
      "1/1 [==============================] - 0s 8ms/step - loss: 0.0000e+00 - accuracy: 1.0000\n",
      "Epoch 109/200\n",
      "1/1 [==============================] - 0s 20ms/step - loss: 0.0000e+00 - accuracy: 1.0000\n",
      "Epoch 110/200\n",
      "1/1 [==============================] - 0s 21ms/step - loss: 0.0000e+00 - accuracy: 1.0000\n",
      "Epoch 111/200\n",
      "1/1 [==============================] - 0s 19ms/step - loss: 0.0000e+00 - accuracy: 1.0000\n",
      "Epoch 112/200\n",
      "1/1 [==============================] - 0s 16ms/step - loss: 0.0000e+00 - accuracy: 1.0000\n",
      "Epoch 113/200\n",
      "1/1 [==============================] - 0s 17ms/step - loss: 0.0000e+00 - accuracy: 1.0000\n",
      "Epoch 114/200\n",
      "1/1 [==============================] - 0s 15ms/step - loss: 0.0000e+00 - accuracy: 1.0000\n",
      "Epoch 115/200\n",
      "1/1 [==============================] - 0s 16ms/step - loss: 0.0000e+00 - accuracy: 1.0000\n",
      "Epoch 116/200\n",
      "1/1 [==============================] - 0s 10ms/step - loss: 0.0000e+00 - accuracy: 1.0000\n",
      "Epoch 117/200\n",
      "1/1 [==============================] - 0s 15ms/step - loss: 0.0000e+00 - accuracy: 1.0000\n",
      "Epoch 118/200\n",
      "1/1 [==============================] - 0s 15ms/step - loss: 0.0000e+00 - accuracy: 1.0000\n",
      "Epoch 119/200\n",
      "1/1 [==============================] - 0s 10ms/step - loss: 0.0000e+00 - accuracy: 1.0000\n",
      "Epoch 120/200\n",
      "1/1 [==============================] - 0s 15ms/step - loss: 0.0000e+00 - accuracy: 1.0000\n",
      "Epoch 121/200\n",
      "1/1 [==============================] - 0s 14ms/step - loss: 0.0000e+00 - accuracy: 1.0000\n",
      "Epoch 122/200\n",
      "1/1 [==============================] - 0s 21ms/step - loss: 0.0000e+00 - accuracy: 1.0000\n",
      "Epoch 123/200\n",
      "1/1 [==============================] - 0s 16ms/step - loss: 0.0000e+00 - accuracy: 1.0000\n",
      "Epoch 124/200\n",
      "1/1 [==============================] - 0s 11ms/step - loss: 0.0000e+00 - accuracy: 1.0000\n",
      "Epoch 125/200\n",
      "1/1 [==============================] - 0s 19ms/step - loss: 0.0000e+00 - accuracy: 1.0000\n",
      "Epoch 126/200\n",
      "1/1 [==============================] - 0s 17ms/step - loss: 0.0000e+00 - accuracy: 1.0000\n",
      "Epoch 127/200\n",
      "1/1 [==============================] - 0s 19ms/step - loss: 0.0000e+00 - accuracy: 1.0000\n",
      "Epoch 128/200\n",
      "1/1 [==============================] - 0s 21ms/step - loss: 0.0000e+00 - accuracy: 1.0000\n",
      "Epoch 129/200\n",
      "1/1 [==============================] - 0s 16ms/step - loss: 0.0000e+00 - accuracy: 1.0000\n",
      "Epoch 130/200\n",
      "1/1 [==============================] - 0s 12ms/step - loss: 0.0000e+00 - accuracy: 1.0000\n",
      "Epoch 131/200\n",
      "1/1 [==============================] - 0s 15ms/step - loss: 0.0000e+00 - accuracy: 1.0000\n",
      "Epoch 132/200\n",
      "1/1 [==============================] - 0s 16ms/step - loss: 0.0000e+00 - accuracy: 1.0000\n",
      "Epoch 133/200\n",
      "1/1 [==============================] - 0s 19ms/step - loss: 0.0000e+00 - accuracy: 1.0000\n",
      "Epoch 134/200\n",
      "1/1 [==============================] - 0s 15ms/step - loss: 0.0000e+00 - accuracy: 1.0000\n",
      "Epoch 135/200\n",
      "1/1 [==============================] - 0s 19ms/step - loss: 0.0000e+00 - accuracy: 1.0000\n",
      "Epoch 136/200\n",
      "1/1 [==============================] - 0s 17ms/step - loss: 0.0000e+00 - accuracy: 1.0000\n",
      "Epoch 137/200\n",
      "1/1 [==============================] - 0s 16ms/step - loss: 0.0000e+00 - accuracy: 1.0000\n",
      "Epoch 138/200\n",
      "1/1 [==============================] - 0s 17ms/step - loss: 0.0000e+00 - accuracy: 1.0000\n",
      "Epoch 139/200\n",
      "1/1 [==============================] - 0s 22ms/step - loss: 0.0000e+00 - accuracy: 1.0000\n",
      "Epoch 140/200\n",
      "1/1 [==============================] - 0s 15ms/step - loss: 0.0000e+00 - accuracy: 1.0000\n",
      "Epoch 141/200\n",
      "1/1 [==============================] - 0s 10ms/step - loss: 0.0000e+00 - accuracy: 1.0000\n",
      "Epoch 142/200\n",
      "1/1 [==============================] - 0s 16ms/step - loss: 0.0000e+00 - accuracy: 1.0000\n",
      "Epoch 143/200\n",
      "1/1 [==============================] - 0s 16ms/step - loss: 0.0000e+00 - accuracy: 1.0000\n",
      "Epoch 144/200\n",
      "1/1 [==============================] - 0s 12ms/step - loss: 0.0000e+00 - accuracy: 1.0000\n",
      "Epoch 145/200\n",
      "1/1 [==============================] - 0s 19ms/step - loss: 0.0000e+00 - accuracy: 1.0000\n",
      "Epoch 146/200\n",
      "1/1 [==============================] - 0s 18ms/step - loss: 0.0000e+00 - accuracy: 1.0000\n",
      "Epoch 147/200\n",
      "1/1 [==============================] - 0s 16ms/step - loss: 0.0000e+00 - accuracy: 1.0000\n",
      "Epoch 148/200\n",
      "1/1 [==============================] - 0s 19ms/step - loss: 0.0000e+00 - accuracy: 1.0000\n",
      "Epoch 149/200\n",
      "1/1 [==============================] - 0s 13ms/step - loss: 0.0000e+00 - accuracy: 1.0000\n",
      "Epoch 150/200\n",
      "1/1 [==============================] - 0s 16ms/step - loss: 0.0000e+00 - accuracy: 1.0000\n",
      "Epoch 151/200\n",
      "1/1 [==============================] - 0s 11ms/step - loss: 0.0000e+00 - accuracy: 1.0000\n",
      "Epoch 152/200\n",
      "1/1 [==============================] - 0s 17ms/step - loss: 0.0000e+00 - accuracy: 1.0000\n",
      "Epoch 153/200\n",
      "1/1 [==============================] - 0s 14ms/step - loss: 0.0000e+00 - accuracy: 1.0000\n",
      "Epoch 154/200\n",
      "1/1 [==============================] - 0s 22ms/step - loss: 0.0000e+00 - accuracy: 1.0000\n",
      "Epoch 155/200\n",
      "1/1 [==============================] - 0s 18ms/step - loss: 0.0000e+00 - accuracy: 1.0000\n",
      "Epoch 156/200\n",
      "1/1 [==============================] - 0s 16ms/step - loss: 0.0000e+00 - accuracy: 1.0000\n",
      "Epoch 157/200\n",
      "1/1 [==============================] - 0s 13ms/step - loss: 0.0000e+00 - accuracy: 1.0000\n",
      "Epoch 158/200\n",
      "1/1 [==============================] - 0s 16ms/step - loss: 0.0000e+00 - accuracy: 1.0000\n",
      "Epoch 159/200\n"
     ]
    },
    {
     "name": "stdout",
     "output_type": "stream",
     "text": [
      "1/1 [==============================] - 0s 16ms/step - loss: 0.0000e+00 - accuracy: 1.0000\n",
      "Epoch 160/200\n",
      "1/1 [==============================] - 0s 19ms/step - loss: 0.0000e+00 - accuracy: 1.0000\n",
      "Epoch 161/200\n",
      "1/1 [==============================] - 0s 15ms/step - loss: 0.0000e+00 - accuracy: 1.0000\n",
      "Epoch 162/200\n",
      "1/1 [==============================] - 0s 17ms/step - loss: 0.0000e+00 - accuracy: 1.0000\n",
      "Epoch 163/200\n",
      "1/1 [==============================] - 0s 17ms/step - loss: 0.0000e+00 - accuracy: 1.0000\n",
      "Epoch 164/200\n",
      "1/1 [==============================] - 0s 15ms/step - loss: 0.0000e+00 - accuracy: 1.0000\n",
      "Epoch 165/200\n",
      "1/1 [==============================] - 0s 19ms/step - loss: 0.0000e+00 - accuracy: 1.0000\n",
      "Epoch 166/200\n",
      "1/1 [==============================] - 0s 28ms/step - loss: 0.0000e+00 - accuracy: 1.0000\n",
      "Epoch 167/200\n",
      "1/1 [==============================] - 0s 19ms/step - loss: 0.0000e+00 - accuracy: 1.0000\n",
      "Epoch 168/200\n",
      "1/1 [==============================] - 0s 13ms/step - loss: 0.0000e+00 - accuracy: 1.0000\n",
      "Epoch 169/200\n",
      "1/1 [==============================] - 0s 15ms/step - loss: 0.0000e+00 - accuracy: 1.0000\n",
      "Epoch 170/200\n",
      "1/1 [==============================] - 0s 14ms/step - loss: 0.0000e+00 - accuracy: 1.0000\n",
      "Epoch 171/200\n",
      "1/1 [==============================] - 0s 21ms/step - loss: 0.0000e+00 - accuracy: 1.0000\n",
      "Epoch 172/200\n",
      "1/1 [==============================] - 0s 14ms/step - loss: 0.0000e+00 - accuracy: 1.0000\n",
      "Epoch 173/200\n",
      "1/1 [==============================] - 0s 13ms/step - loss: 0.0000e+00 - accuracy: 1.0000\n",
      "Epoch 174/200\n",
      "1/1 [==============================] - 0s 10ms/step - loss: 0.0000e+00 - accuracy: 1.0000\n",
      "Epoch 175/200\n",
      "1/1 [==============================] - 0s 12ms/step - loss: 0.0000e+00 - accuracy: 1.0000\n",
      "Epoch 176/200\n",
      "1/1 [==============================] - 0s 16ms/step - loss: 0.0000e+00 - accuracy: 1.0000\n",
      "Epoch 177/200\n",
      "1/1 [==============================] - 0s 17ms/step - loss: 0.0000e+00 - accuracy: 1.0000\n",
      "Epoch 178/200\n",
      "1/1 [==============================] - 0s 9ms/step - loss: 0.0000e+00 - accuracy: 1.0000\n",
      "Epoch 179/200\n",
      "1/1 [==============================] - 0s 13ms/step - loss: 0.0000e+00 - accuracy: 1.0000\n",
      "Epoch 180/200\n",
      "1/1 [==============================] - 0s 15ms/step - loss: 0.0000e+00 - accuracy: 1.0000\n",
      "Epoch 181/200\n",
      "1/1 [==============================] - 0s 18ms/step - loss: 0.0000e+00 - accuracy: 1.0000\n",
      "Epoch 182/200\n",
      "1/1 [==============================] - 0s 13ms/step - loss: 0.0000e+00 - accuracy: 1.0000\n",
      "Epoch 183/200\n",
      "1/1 [==============================] - 0s 17ms/step - loss: 0.0000e+00 - accuracy: 1.0000\n",
      "Epoch 184/200\n",
      "1/1 [==============================] - 0s 13ms/step - loss: 0.0000e+00 - accuracy: 1.0000\n",
      "Epoch 185/200\n",
      "1/1 [==============================] - 0s 16ms/step - loss: 0.0000e+00 - accuracy: 1.0000\n",
      "Epoch 186/200\n",
      "1/1 [==============================] - 0s 9ms/step - loss: 0.0000e+00 - accuracy: 1.0000\n",
      "Epoch 187/200\n",
      "1/1 [==============================] - 0s 16ms/step - loss: 0.0000e+00 - accuracy: 1.0000\n",
      "Epoch 188/200\n",
      "1/1 [==============================] - 0s 8ms/step - loss: 0.0000e+00 - accuracy: 1.0000\n",
      "Epoch 189/200\n",
      "1/1 [==============================] - 0s 15ms/step - loss: 0.0000e+00 - accuracy: 1.0000\n",
      "Epoch 190/200\n",
      "1/1 [==============================] - 0s 18ms/step - loss: 0.0000e+00 - accuracy: 1.0000\n",
      "Epoch 191/200\n",
      "1/1 [==============================] - 0s 14ms/step - loss: 0.0000e+00 - accuracy: 1.0000\n",
      "Epoch 192/200\n",
      "1/1 [==============================] - 0s 14ms/step - loss: 0.0000e+00 - accuracy: 1.0000\n",
      "Epoch 193/200\n",
      "1/1 [==============================] - 0s 14ms/step - loss: 0.0000e+00 - accuracy: 1.0000\n",
      "Epoch 194/200\n",
      "1/1 [==============================] - 0s 21ms/step - loss: 0.0000e+00 - accuracy: 1.0000\n",
      "Epoch 195/200\n",
      "1/1 [==============================] - 0s 9ms/step - loss: 0.0000e+00 - accuracy: 1.0000\n",
      "Epoch 196/200\n",
      "1/1 [==============================] - 0s 13ms/step - loss: 0.0000e+00 - accuracy: 1.0000\n",
      "Epoch 197/200\n",
      "1/1 [==============================] - 0s 16ms/step - loss: 0.0000e+00 - accuracy: 1.0000\n",
      "Epoch 198/200\n",
      "1/1 [==============================] - 0s 21ms/step - loss: 0.0000e+00 - accuracy: 1.0000\n",
      "Epoch 199/200\n",
      "1/1 [==============================] - 0s 17ms/step - loss: 0.0000e+00 - accuracy: 1.0000\n",
      "Epoch 200/200\n",
      "1/1 [==============================] - 0s 19ms/step - loss: 0.0000e+00 - accuracy: 1.0000\n",
      "model created\n"
     ]
    },
    {
     "name": "stderr",
     "output_type": "stream",
     "text": [
      "C:\\Users\\Luz Helena\\anaconda3\\Lib\\site-packages\\keras\\src\\engine\\training.py:3000: UserWarning: You are saving your model as an HDF5 file via `model.save()`. This file format is considered legacy. We recommend using instead the native Keras format, e.g. `model.save('my_model.keras')`.\n",
      "  saving_api.save_model(\n"
     ]
    }
   ],
   "source": [
    "hist = model.fit(np.array(train_x), np.array(train_y), epochs=200, batch_size=5, verbose=1)\n",
    "model.save('chatbot_model.h5', hist)\n",
    "print(\"model created\")"
   ]
  },
  {
   "cell_type": "code",
   "execution_count": null,
   "id": "37676e6c",
   "metadata": {},
   "outputs": [],
   "source": []
  }
 ],
 "metadata": {
  "kernelspec": {
   "display_name": "Python 3 (ipykernel)",
   "language": "python",
   "name": "python3"
  },
  "language_info": {
   "codemirror_mode": {
    "name": "ipython",
    "version": 3
   },
   "file_extension": ".py",
   "mimetype": "text/x-python",
   "name": "python",
   "nbconvert_exporter": "python",
   "pygments_lexer": "ipython3",
   "version": "3.11.3"
  }
 },
 "nbformat": 4,
 "nbformat_minor": 5
}
